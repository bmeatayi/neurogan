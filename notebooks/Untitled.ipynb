{
 "cells": [
  {
   "cell_type": "code",
   "execution_count": null,
   "metadata": {},
   "outputs": [],
   "source": [
    "import os\n",
    "import sys\n",
    "module_path = os.path.abspath(os.path.join('..'))\n",
    "if module_path not in sys.path:\n",
    "    sys.path.append(module_path)"
   ]
  },
  {
   "cell_type": "code",
   "execution_count": null,
   "metadata": {},
   "outputs": [],
   "source": [
    "import torch\n",
    "import matplotlib.pyplot as plt\n",
    "from models.gen_glm import GeneratorGLM\n",
    "from utils.plot_props import PlotProps\n",
    "import numpy as np\n",
    "\n",
    "%matplotlib inline"
   ]
  },
  {
   "cell_type": "code",
   "execution_count": null,
   "metadata": {},
   "outputs": [],
   "source": [
    "generator = load('..//examples//cgan_results//SharedNoise_30N_run01_lam.1_temp.5//generator.pt')"
   ]
  },
  {
   "cell_type": "code",
   "execution_count": null,
   "metadata": {},
   "outputs": [],
   "source": [
    "gen_glm_filters = generator.GLM.weight.detach().cpu().numpy()\n",
    "gen_glm_biases = generator.GLM.biases.detach().cpu().numpy()\n",
    "gen_w_shared_noise = generator.shn_layer.weight.detach().cpu().numpy()\n",
    "\n",
    "real_glm_filters = np.load('..//dataset//GLM_2D_30n_shared_noise//W.npy')\n",
    "real_glm_biases = np.load('..//dataset//GLM_2D_30n_shared_noise//bias.npy')\n",
    "real_w_shared_noise = .5\n"
   ]
  },
  {
   "cell_type": "code",
   "execution_count": null,
   "metadata": {},
   "outputs": [],
   "source": [
    "plot_props = PlotProps()\n",
    "f.reshape((30, 40)), axis=(0, 1))\n",
    "\n",
    "ax[0].set_title('GLM filter parameters')\n",
    "ax[0].plot([-1, 1], [-1, 1], 'black')\n",
    "ax[0].plot(real_glm_filters.flatten(), np.flip(gen_glm_filters, axis=(0, 1)), '.')\n",
    "ax[0].plot(real_w_shared_noise, gen_w_shared_noise, '*', markersize=5, label='Shared noise scale' )\n",
    "\n",
    "ax[1].plot([-1, 1], [-1, 1], 'black')\n",
    "ax[1].plot(real_glm_biases, gen_glm_biases, '.')"
   ]
  }
 ],
 "metadata": {
  "kernelspec": {
   "display_name": "Python 3",
   "language": "python",
   "name": "python3"
  },
  "language_info": {
   "codemirror_mode": {
    "name": "ipython",
    "version": 3
   },
   "file_extension": ".py",
   "mimetype": "text/x-python",
   "name": "python",
   "nbconvert_exporter": "python",
   "pygments_lexer": "ipython3",
   "version": "3.6.7"
  }
 },
 "nbformat": 4,
 "nbformat_minor": 2
}
